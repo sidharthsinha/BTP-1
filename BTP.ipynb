{
  "nbformat": 4,
  "nbformat_minor": 0,
  "metadata": {
    "colab": {
      "provenance": []
    },
    "kernelspec": {
      "name": "python3",
      "display_name": "Python 3"
    },
    "language_info": {
      "name": "python"
    }
  },
  "cells": [
    {
      "cell_type": "code",
      "source": [
        "def frobenius_norm(matrix):\n",
        "    return np.linalg.norm(matrix, 'fro')\n",
        "\n",
        "import numpy as np\n",
        "import time\n",
        "import matplotlib.pyplot as plt\n",
        "W = np.array([[1.0000, 0.0372, 0.0100, -0.0219, -0.8478],\n",
        "                  [0.0372, 1.0000, -0.5449, -0.3757, -0.4849],\n",
        "                  [0.0100, -0.5449, 1.0000, -0.0381, 0.0996],\n",
        "                  [-0.0219, -0.3757, -0.0381, 1.0000, 0.4292],\n",
        "                  [-0.8478, -0.4849, 0.0996, 0.4292, 1.0000]]) #Calculated using nearcorr func in MATLAB\n",
        "\n",
        "A = np.array([[1.0000, 0, 0, 0, -0.9360],\n",
        "              [0, 1.0000, -0.5500, -0.3645, -0.5300],\n",
        "              [0, -0.5500, 1.0000, -0.0351, 0.0875],\n",
        "              [0, -0.3645, -0.0351, 1.0000, 0.4557],\n",
        "              [-0.9360, -0.5300, 0.0875, 0.4557, 1.0000]]) #Calculatd using nearcorr func in MATLAB\n",
        "\n",
        "def create_random_symmetric_matrix(size):\n",
        "    A = np.random.rand(size, size)\n",
        "    sym_matrix = (A + A.T) / 2  # Make it symmetric\n",
        "    return sym_matrix\n",
        "\n",
        "def measure_time_for_matrices(calculate_func):\n",
        "    dimensions = list(range(3, 11))\n",
        "    time_taken = []\n",
        "\n",
        "    for dimension in dimensions:\n",
        "        matrix = create_random_symmetric_matrix(dimension)\n",
        "        start_time = time.time()\n",
        "        nearest_corr_matrix = calculate_func(matrix)\n",
        "        end_time = time.time()\n",
        "        time_taken.append(end_time - start_time)\n",
        "\n",
        "    # Plot the results\n",
        "    plt.plot(dimensions, time_taken, marker='o')\n",
        "    plt.title('Time taken to calculate nearest correlation matrix')\n",
        "    plt.xlabel('Matrix Dimension')\n",
        "    plt.ylabel('Time (seconds)')\n",
        "    plt.grid(True)\n",
        "    plt.show()"
      ],
      "metadata": {
        "id": "0BsoEzAdo8Ht"
      },
      "execution_count": null,
      "outputs": []
    },
    {
      "cell_type": "code",
      "execution_count": null,
      "metadata": {
        "id": "cbKfwAw8Ud4W",
        "colab": {
          "base_uri": "https://localhost:8080/"
        },
        "outputId": "eaf0ce56-e980-43e7-ad42-95fa392314b2"
      },
      "outputs": [
        {
          "output_type": "stream",
          "name": "stdout",
          "text": [
            "\n",
            "[[1.00000000e+00 0.00000000e+00 0.00000000e+00 0.00000000e+00\n",
            "  0.00000000e+00]\n",
            " [0.00000000e+00 1.00000000e+00 0.00000000e+00 0.00000000e+00\n",
            "  0.00000000e+00]\n",
            " [0.00000000e+00 0.00000000e+00 1.00000000e+00 5.47085607e-16\n",
            "  8.75000000e-02]\n",
            " [0.00000000e+00 0.00000000e+00 5.29598178e-16 1.00000000e+00\n",
            "  4.55700000e-01]\n",
            " [0.00000000e+00 0.00000000e+00 8.75000000e-02 4.55700000e-01\n",
            "  1.00000000e+00]]\n",
            "1.671061381278378\n"
          ]
        }
      ],
      "source": [
        "import numpy as np\n",
        "\n",
        "def alternating_projections(A, max_iterations=100, tol=1e-6):\n",
        "    # Ensure the input matrix is symmetric\n",
        "    A = 0.5 * (A + A.T)\n",
        "\n",
        "    n = A.shape[0]\n",
        "    X = A.copy()\n",
        "\n",
        "    for iteration in range(max_iterations):\n",
        "        # Projection onto the space of correlation matrices\n",
        "        X = (X + X.T) / 2\n",
        "        X = np.maximum(X, 0)\n",
        "        np.fill_diagonal(X, 1)\n",
        "\n",
        "        # Projection onto the space of positive semidefinite matrices\n",
        "        eigenvalues, eigenvectors = np.linalg.eigh(X)\n",
        "        eigenvalues = np.maximum(eigenvalues, 0)\n",
        "        X = eigenvectors @ np.diag(eigenvalues) @ eigenvectors.T\n",
        "\n",
        "        # Check for convergence\n",
        "        diff = np.linalg.norm(X - A, 'fro')\n",
        "        if diff < tol:\n",
        "            break\n",
        "\n",
        "    return X\n",
        "start = time.time()\n",
        "X = alternating_projections(A)\n",
        "end=time.time()\n",
        "print()\n",
        "print(X)\n",
        "print(frobenius_norm(W-X))"
      ]
    },
    {
      "cell_type": "code",
      "source": [
        "import numpy as np\n",
        "from scipy.linalg import svd, norm\n",
        "\n",
        "def project_positive(C):\n",
        "    # Project to space of positive semidefinite matrices\n",
        "    eigenvalues, eigenvectors = np.linalg.eigh(C)\n",
        "    return eigenvectors.dot(np.diag(np.maximum(eigenvalues, 0))).dot(eigenvectors.T)\n",
        "\n",
        "def project_symmetric(C):\n",
        "    # Project to space of symmetric matrices\n",
        "    return (C + C.T) / 2\n",
        "\n",
        "def normalize_diagonal(C):\n",
        "    # Normalize the diagonal of a matrix to 1.\n",
        "    d = np.sqrt(np.diagonal(C))\n",
        "    return C / d / d[:, np.newaxis]\n",
        "\n",
        "def anderson(A, M=5, N=100):\n",
        "    \"\"\"\n",
        "    Compute nearest correlation matrix using alternating projections with Anderson's acceleration.\n",
        "    \"\"\"\n",
        "    # Initialize\n",
        "    C = A.copy()\n",
        "    H = []\n",
        "    for k in range(N):\n",
        "        # Projection onto symmetric matrices\n",
        "        C = project_symmetric(C)\n",
        "\n",
        "        # Projection onto positive semidefinite matrices\n",
        "        C = project_positive(C)\n",
        "\n",
        "        # Normalize diagonal and Update history buffer\n",
        "        C = normalize_diagonal(C)\n",
        "        H.append(C)\n",
        "\n",
        "        # Ensure maximum history length\n",
        "        if len(H) > M:\n",
        "            H.pop(0)\n",
        "\n",
        "        if k >= 3:\n",
        "            # Compute Anderson acceleration update using history buffer\n",
        "            Δ = H[-1] - H[-2]\n",
        "            C += Δ\n",
        "    return C\n",
        "start = time.time()\n",
        "X = anderson(A, M=5, N=100)\n",
        "end=time.time()\n",
        "print(end-start)\n",
        "print(X)\n",
        "print(frobenius_norm(W-X))"
      ],
      "metadata": {
        "id": "vNwyvplQZk_7",
        "colab": {
          "base_uri": "https://localhost:8080/"
        },
        "outputId": "f125e373-9af0-47c0-ee41-14db99ec9aeb"
      },
      "execution_count": null,
      "outputs": [
        {
          "output_type": "stream",
          "name": "stdout",
          "text": [
            "0.004732370376586914\n",
            "[[ 1.          0.02318371  0.00703045 -0.0128971  -0.83930213]\n",
            " [ 0.02318371  1.         -0.54219948 -0.36859685 -0.4832012 ]\n",
            " [ 0.00703045 -0.54219948  1.         -0.03718672  0.09319802]\n",
            " [-0.0128971  -0.36859685 -0.03718672  1.          0.42581655]\n",
            " [-0.83930213 -0.4832012   0.09319802  0.42581655  1.        ]]\n",
            "0.030738943436009362\n"
          ]
        }
      ]
    },
    {
      "cell_type": "code",
      "source": [
        "import numpy as np\n",
        "from scipy.linalg import eigh\n",
        "from numpy.linalg import norm\n",
        "\n",
        "def nearest_correlation_matrix_higham(A, N, tol):\n",
        "    # Initialize C as a copy of A\n",
        "    C = np.copy(A)\n",
        "\n",
        "    for k in range(1, N + 1):\n",
        "        # Compute the spectral decomposition of C\n",
        "        w, Q = eigh(C)\n",
        "        # Clamp the eigenvalues to the interval [0, 1]\n",
        "        w = np.maximum(0, np.minimum(w, 1))\n",
        "        # Reconstruct C as C = QΛQ^T\n",
        "        C = Q @ np.diag(w) @ Q.T\n",
        "\n",
        "        # Check for convergence\n",
        "        if norm(C - A, 'fro') < tol:\n",
        "            break\n",
        "\n",
        "        # Normalize the diagonal of C to be all ones\n",
        "        C[np.diag_indices(C.shape[0])] = 1.0\n",
        "\n",
        "    return C\n",
        "\n",
        "N = 100  # Maximum number of iterations\n",
        "tol = 1e-6  # Tolerance for convergence\n",
        "start=time.time()\n",
        "X = nearest_correlation_matrix_higham(A, N, tol)\n",
        "end=time.time()\n",
        "print(end-start)\n",
        "print(X)\n",
        "print(frobenius_norm(W-X))\n"
      ],
      "metadata": {
        "id": "kMVEdRlZc5Cu",
        "colab": {
          "base_uri": "https://localhost:8080/"
        },
        "outputId": "9eadd9db-abe4-4798-8d93-5b95ddec7610"
      },
      "execution_count": null,
      "outputs": [
        {
          "output_type": "stream",
          "name": "stdout",
          "text": [
            "0.018413543701171875\n",
            "[[ 1.00000000e+00 -1.20255773e-11 -1.20254257e-11  1.20256148e-11\n",
            "  -1.20255599e-11]\n",
            " [-1.20255218e-11  1.00000000e+00 -1.20247245e-11  1.20252373e-11\n",
            "  -1.20250236e-11]\n",
            " [-1.20254257e-11 -1.20246967e-11  1.00000000e+00  1.20255084e-11\n",
            "  -1.20254789e-11]\n",
            " [ 1.20255871e-11  1.20252373e-11  1.20255084e-11  1.00000000e+00\n",
            "   1.20253593e-11]\n",
            " [-1.20255321e-11 -1.20249958e-11 -1.20254789e-11  1.20253593e-11\n",
            "   1.00000000e+00]]\n",
            "1.7829790856645122\n"
          ]
        }
      ]
    },
    {
      "cell_type": "code",
      "source": [
        "import numpy as np\n",
        "from scipy.linalg import eigh\n",
        "from numpy.linalg import norm, solve\n",
        "\n",
        "def nearest_correlation_matrix_newton(A, N, tol):\n",
        "    # Initialize C as a copy of A\n",
        "    C = np.copy(A)\n",
        "\n",
        "    for k in range(1, N + 1):\n",
        "        # Calculate the gradient of the objective function ∇f(C)\n",
        "        gradient = compute_gradient(C, A)\n",
        "\n",
        "        # Calculate the Hessian matrix of the objective function ∇^2f(C)\n",
        "        hessian = compute_hessian(C)\n",
        "\n",
        "        # Compute the Newton update step ∆C by solving the linear system\n",
        "        delta_C = solve(hessian, -gradient)\n",
        "\n",
        "        # Update C: C ← C + ∆C\n",
        "        C += delta_C\n",
        "\n",
        "        # Project C onto the space of symmetric matrices\n",
        "        C = (C + C.T) / 2\n",
        "\n",
        "        # Project C onto the space of positive semidefinite matrices\n",
        "        w, Q = eigh(C)\n",
        "        w = np.maximum(w, 0)\n",
        "        C = Q @ np.diag(w) @ Q.T\n",
        "\n",
        "        # Normalize the diagonal of C to be all ones\n",
        "        C[np.diag_indices(C.shape[0])] = 1.0\n",
        "\n",
        "        # Check for convergence\n",
        "        if norm(delta_C, 'fro') < tol:\n",
        "            break\n",
        "\n",
        "    return C\n",
        "\n",
        "def compute_gradient(C, A):\n",
        "    # Calculate the gradient of the objective function ∇f(C)\n",
        "    return 2 * (C - A)\n",
        "\n",
        "def compute_hessian(C):\n",
        "    # Calculate the Hessian matrix of the objective function ∇^2f(C)\n",
        "    n = C.shape[0]\n",
        "    return np.eye(n)\n",
        "\n",
        "\n",
        "N = 100  # Maximum number of iterations\n",
        "tol = 1e-6  # Tolerance for convergence\n",
        "\n",
        "start=time.time()\n",
        "X = nearest_correlation_matrix_newton(A, N, tol)\n",
        "end=time.time()\n",
        "print(end-start)\n",
        "print(X)\n",
        "print(frobenius_norm(W-X))\n"
      ],
      "metadata": {
        "id": "6dyyJmSOc6JR",
        "colab": {
          "base_uri": "https://localhost:8080/"
        },
        "outputId": "7aacea66-ffb5-418a-92dc-2f9da5f75223"
      },
      "execution_count": null,
      "outputs": [
        {
          "output_type": "stream",
          "name": "stdout",
          "text": [
            "0.007047891616821289\n",
            "[[ 1.          0.02383632  0.00718581 -0.01320068 -0.88380848]\n",
            " [ 0.02383632  1.         -0.54605753 -0.3717425  -0.50136533]\n",
            " [ 0.00718581 -0.54605753  1.         -0.03728336  0.09613235]\n",
            " [-0.01320068 -0.3717425  -0.03728336  1.          0.43984197]\n",
            " [-0.88380848 -0.50136533  0.09613235  0.43984197  1.        ]]\n",
            "0.06281477855303876\n"
          ]
        }
      ]
    },
    {
      "cell_type": "code",
      "source": [
        "import numpy as np\n",
        "from scipy.linalg import eigh\n",
        "\n",
        "def nearest_correlation_matrix_log_barrier(A, N, mu, rho):\n",
        "    # Initialize C as a copy of A\n",
        "    C = np.copy(A)\n",
        "    dim = A.shape[0]\n",
        "\n",
        "    for k in range(1, N + 1):\n",
        "        # Compute the spectral decomposition of C\n",
        "        w, Q = eigh(C)\n",
        "\n",
        "        # Update Λ using the barrier function\n",
        "        w = barrier_function(w, mu)\n",
        "\n",
        "        # Reconstruct C as C = QΛQ^T\n",
        "        C = Q @ np.diag(w) @ Q.T\n",
        "\n",
        "        # Update the barrier parameter\n",
        "        mu *= rho\n",
        "\n",
        "        # Normalize the diagonal of C to be all ones\n",
        "        C[np.diag_indices(dim)] = 1.0\n",
        "\n",
        "    return C\n",
        "\n",
        "def barrier_function(w, mu):\n",
        "    # Update eigenvalues using the barrier function\n",
        "    return (w + np.sqrt(w**2 + 4 * mu)) / 2\n",
        "\n",
        "\n",
        "N = 100  # Maximum number of iterations\n",
        "mu = 1.0  # Initial barrier parameter\n",
        "rho = 0.9  # Barrier parameter update factor\n",
        "start = time.time()\n",
        "X = nearest_correlation_matrix_log_barrier(A, N, mu, rho)\n",
        "end=time.time()\n",
        "print(end-start)\n",
        "print(X)\n",
        "print(frobenius_norm(W-X))\n"
      ],
      "metadata": {
        "id": "sqUAlJDfdZ4B",
        "colab": {
          "base_uri": "https://localhost:8080/"
        },
        "outputId": "347b5616-e91b-4f28-86bd-8f8d774ae8a0"
      },
      "execution_count": null,
      "outputs": [
        {
          "output_type": "stream",
          "name": "stdout",
          "text": [
            "0.009701728820800781\n",
            "[[ 1.00000000e+00  1.51248774e-03 -4.59714727e-04 -1.32073670e-03\n",
            "  -5.25433510e-03]\n",
            " [ 1.51248774e-03  1.00000000e+00 -3.27002252e-03 -2.80010477e-03\n",
            "  -3.77418473e-03]\n",
            " [-4.59714727e-04 -3.27002252e-03  1.00000000e+00  6.04641204e-04\n",
            "   1.37243919e-03]\n",
            " [-1.32073670e-03 -2.80010477e-03  6.04641204e-04  1.00000000e+00\n",
            "   3.26921580e-03]\n",
            " [-5.25433510e-03 -3.77418473e-03  1.37243919e-03  3.26921580e-03\n",
            "   1.00000000e+00]]\n",
            "1.770961805377326\n"
          ]
        }
      ]
    },
    {
      "cell_type": "code",
      "source": [
        "import numpy as np\n",
        "from scipy.linalg import eigh\n",
        "from numpy.linalg import norm\n",
        "\n",
        "def nearest_correlation_matrix_diagonal_scaling(A, N, tol):\n",
        "    # Initialize C as a copy of A\n",
        "    C = np.copy(A)\n",
        "    dim = A.shape[0]\n",
        "\n",
        "    for k in range(1, N + 1):\n",
        "        # Compute the diagonal scaling matrix D\n",
        "        D = np.diag(1 / np.sqrt(np.diag(C)))\n",
        "\n",
        "        # Scale C with D\n",
        "        C = D @ C @ D\n",
        "\n",
        "        # Project C onto the space of positive semidefinite matrices\n",
        "        w, U = eigh(C)\n",
        "        w = np.maximum(w, 0)\n",
        "        C = U @ np.diag(w) @ U.T\n",
        "\n",
        "        # Descale C with D\n",
        "        C = D @ C @ D\n",
        "\n",
        "        # Check for convergence\n",
        "        if norm(C - A, 'fro') < tol:\n",
        "            break\n",
        "\n",
        "    return C\n",
        "\n",
        "N = 100  # Maximum number of iterations\n",
        "tol = 1e-6  # Tolerance for convergence\n",
        "start=time.time()\n",
        "X = nearest_correlation_matrix_diagonal_scaling(A, N, tol)\n",
        "end=time.time()\n",
        "print(end-start)\n",
        "print(X)\n",
        "print(frobenius_norm(W-X))"
      ],
      "metadata": {
        "id": "VoVr6v6rdgJC",
        "colab": {
          "base_uri": "https://localhost:8080/"
        },
        "outputId": "22193176-bd18-49b1-f8d6-713ecf188158"
      },
      "execution_count": null,
      "outputs": [
        {
          "output_type": "stream",
          "name": "stdout",
          "text": [
            "0.0240936279296875\n",
            "[[ 0.95836323  0.02254897  0.00687844 -0.0126005  -0.79703701]\n",
            " [ 0.02254897  0.98709111 -0.53836868 -0.36547781 -0.46569515]\n",
            " [ 0.00687844 -0.53836868  0.9988129  -0.03709033  0.09035327]\n",
            " [-0.0126005  -0.36547781 -0.03709033  0.99600509  0.41223837]\n",
            " [-0.79703701 -0.46569515  0.09035327  0.41223837  0.94100121]]\n",
            "0.11381738385897265\n"
          ]
        }
      ]
    },
    {
      "cell_type": "code",
      "source": [
        "import numpy as np\n",
        "\n",
        "def random_matrix_approximation(A, S):\n",
        "    # Initialize C as a copy of A\n",
        "    C = np.copy(A)\n",
        "\n",
        "    for s in range(S):\n",
        "        n = A.shape[0]\n",
        "        # Generate a random matrix R with i.i.d. standard normal entries\n",
        "        R = np.random.normal(0, 1, (n, n))\n",
        "\n",
        "        # Compute the product of C and R: P = CR\n",
        "        P = np.dot(C, R)\n",
        "\n",
        "        # Perform the spectral decomposition of P : P = U ΛU^T\n",
        "        eig_vals, U = np.linalg.eigh(P)\n",
        "        Λ = np.diag(eig_vals)\n",
        "\n",
        "        # Set Λ to a diagonal matrix with its diagonal elements clamped to the interval [0, 1]\n",
        "        Λ[Λ < 0] = 0\n",
        "        Λ[Λ > 1] = 1\n",
        "\n",
        "        # Reconstruct P as P = U ΛU^T\n",
        "        P = np.dot(U, np.dot(Λ, U.T))\n",
        "\n",
        "\n",
        "        # Update C using the approximation: C ← C - C(P - I)C\n",
        "        I = np.eye(n)\n",
        "        C = C - C @ (P - I) @ C\n",
        "\n",
        "    # Normalize the diagonal of C to be all ones:\n",
        "    C = C / np.sqrt(np.diag(C))\n",
        "\n",
        "    return C\n",
        "\n",
        "\n",
        "\n",
        "S = 100  # Number of random samples\n",
        "start=time.time()\n",
        "X = random_matrix_approximation(A, S)\n",
        "end=time.time()\n",
        "print(end-start)\n",
        "print(X)\n",
        "print(frobenius_norm(W-X))"
      ],
      "metadata": {
        "id": "4-uGfg2ldwAp",
        "colab": {
          "base_uri": "https://localhost:8080/",
          "height": 419
        },
        "outputId": "e2d59131-cfd0-49b8-83ef-634c5b12739f"
      },
      "execution_count": null,
      "outputs": [
        {
          "output_type": "stream",
          "name": "stderr",
          "text": [
            "<ipython-input-34-1a8a96afa7dc>:29: RuntimeWarning: overflow encountered in matmul\n",
            "  C = C - C @ (P - I) @ C\n"
          ]
        },
        {
          "output_type": "error",
          "ename": "LinAlgError",
          "evalue": "ignored",
          "traceback": [
            "\u001b[0;31m---------------------------------------------------------------------------\u001b[0m",
            "\u001b[0;31mLinAlgError\u001b[0m                               Traceback (most recent call last)",
            "\u001b[0;32m<ipython-input-34-1a8a96afa7dc>\u001b[0m in \u001b[0;36m<cell line: 40>\u001b[0;34m()\u001b[0m\n\u001b[1;32m     38\u001b[0m \u001b[0mS\u001b[0m \u001b[0;34m=\u001b[0m \u001b[0;36m100\u001b[0m  \u001b[0;31m# Number of random samples\u001b[0m\u001b[0;34m\u001b[0m\u001b[0;34m\u001b[0m\u001b[0m\n\u001b[1;32m     39\u001b[0m \u001b[0mstart\u001b[0m\u001b[0;34m=\u001b[0m\u001b[0mtime\u001b[0m\u001b[0;34m.\u001b[0m\u001b[0mtime\u001b[0m\u001b[0;34m(\u001b[0m\u001b[0;34m)\u001b[0m\u001b[0;34m\u001b[0m\u001b[0;34m\u001b[0m\u001b[0m\n\u001b[0;32m---> 40\u001b[0;31m \u001b[0mX\u001b[0m \u001b[0;34m=\u001b[0m \u001b[0mrandom_matrix_approximation\u001b[0m\u001b[0;34m(\u001b[0m\u001b[0mA\u001b[0m\u001b[0;34m,\u001b[0m \u001b[0mS\u001b[0m\u001b[0;34m)\u001b[0m\u001b[0;34m\u001b[0m\u001b[0;34m\u001b[0m\u001b[0m\n\u001b[0m\u001b[1;32m     41\u001b[0m \u001b[0mend\u001b[0m\u001b[0;34m=\u001b[0m\u001b[0mtime\u001b[0m\u001b[0;34m.\u001b[0m\u001b[0mtime\u001b[0m\u001b[0;34m(\u001b[0m\u001b[0;34m)\u001b[0m\u001b[0;34m\u001b[0m\u001b[0;34m\u001b[0m\u001b[0m\n\u001b[1;32m     42\u001b[0m \u001b[0mprint\u001b[0m\u001b[0;34m(\u001b[0m\u001b[0mend\u001b[0m\u001b[0;34m-\u001b[0m\u001b[0mstart\u001b[0m\u001b[0;34m)\u001b[0m\u001b[0;34m\u001b[0m\u001b[0;34m\u001b[0m\u001b[0m\n",
            "\u001b[0;32m<ipython-input-34-1a8a96afa7dc>\u001b[0m in \u001b[0;36mrandom_matrix_approximation\u001b[0;34m(A, S)\u001b[0m\n\u001b[1;32m     14\u001b[0m \u001b[0;34m\u001b[0m\u001b[0m\n\u001b[1;32m     15\u001b[0m         \u001b[0;31m# Perform the spectral decomposition of P : P = U ΛU^T\u001b[0m\u001b[0;34m\u001b[0m\u001b[0;34m\u001b[0m\u001b[0m\n\u001b[0;32m---> 16\u001b[0;31m         \u001b[0meig_vals\u001b[0m\u001b[0;34m,\u001b[0m \u001b[0mU\u001b[0m \u001b[0;34m=\u001b[0m \u001b[0mnp\u001b[0m\u001b[0;34m.\u001b[0m\u001b[0mlinalg\u001b[0m\u001b[0;34m.\u001b[0m\u001b[0meigh\u001b[0m\u001b[0;34m(\u001b[0m\u001b[0mP\u001b[0m\u001b[0;34m)\u001b[0m\u001b[0;34m\u001b[0m\u001b[0;34m\u001b[0m\u001b[0m\n\u001b[0m\u001b[1;32m     17\u001b[0m         \u001b[0mΛ\u001b[0m \u001b[0;34m=\u001b[0m \u001b[0mnp\u001b[0m\u001b[0;34m.\u001b[0m\u001b[0mdiag\u001b[0m\u001b[0;34m(\u001b[0m\u001b[0meig_vals\u001b[0m\u001b[0;34m)\u001b[0m\u001b[0;34m\u001b[0m\u001b[0;34m\u001b[0m\u001b[0m\n\u001b[1;32m     18\u001b[0m \u001b[0;34m\u001b[0m\u001b[0m\n",
            "\u001b[0;32m/usr/local/lib/python3.10/dist-packages/numpy/core/overrides.py\u001b[0m in \u001b[0;36meigh\u001b[0;34m(*args, **kwargs)\u001b[0m\n",
            "\u001b[0;32m/usr/local/lib/python3.10/dist-packages/numpy/linalg/linalg.py\u001b[0m in \u001b[0;36meigh\u001b[0;34m(a, UPLO)\u001b[0m\n\u001b[1;32m   1463\u001b[0m \u001b[0;34m\u001b[0m\u001b[0m\n\u001b[1;32m   1464\u001b[0m     \u001b[0msignature\u001b[0m \u001b[0;34m=\u001b[0m \u001b[0;34m'D->dD'\u001b[0m \u001b[0;32mif\u001b[0m \u001b[0misComplexType\u001b[0m\u001b[0;34m(\u001b[0m\u001b[0mt\u001b[0m\u001b[0;34m)\u001b[0m \u001b[0;32melse\u001b[0m \u001b[0;34m'd->dd'\u001b[0m\u001b[0;34m\u001b[0m\u001b[0;34m\u001b[0m\u001b[0m\n\u001b[0;32m-> 1465\u001b[0;31m     \u001b[0mw\u001b[0m\u001b[0;34m,\u001b[0m \u001b[0mvt\u001b[0m \u001b[0;34m=\u001b[0m \u001b[0mgufunc\u001b[0m\u001b[0;34m(\u001b[0m\u001b[0ma\u001b[0m\u001b[0;34m,\u001b[0m \u001b[0msignature\u001b[0m\u001b[0;34m=\u001b[0m\u001b[0msignature\u001b[0m\u001b[0;34m,\u001b[0m \u001b[0mextobj\u001b[0m\u001b[0;34m=\u001b[0m\u001b[0mextobj\u001b[0m\u001b[0;34m)\u001b[0m\u001b[0;34m\u001b[0m\u001b[0;34m\u001b[0m\u001b[0m\n\u001b[0m\u001b[1;32m   1466\u001b[0m     \u001b[0mw\u001b[0m \u001b[0;34m=\u001b[0m \u001b[0mw\u001b[0m\u001b[0;34m.\u001b[0m\u001b[0mastype\u001b[0m\u001b[0;34m(\u001b[0m\u001b[0m_realType\u001b[0m\u001b[0;34m(\u001b[0m\u001b[0mresult_t\u001b[0m\u001b[0;34m)\u001b[0m\u001b[0;34m,\u001b[0m \u001b[0mcopy\u001b[0m\u001b[0;34m=\u001b[0m\u001b[0;32mFalse\u001b[0m\u001b[0;34m)\u001b[0m\u001b[0;34m\u001b[0m\u001b[0;34m\u001b[0m\u001b[0m\n\u001b[1;32m   1467\u001b[0m     \u001b[0mvt\u001b[0m \u001b[0;34m=\u001b[0m \u001b[0mvt\u001b[0m\u001b[0;34m.\u001b[0m\u001b[0mastype\u001b[0m\u001b[0;34m(\u001b[0m\u001b[0mresult_t\u001b[0m\u001b[0;34m,\u001b[0m \u001b[0mcopy\u001b[0m\u001b[0;34m=\u001b[0m\u001b[0;32mFalse\u001b[0m\u001b[0;34m)\u001b[0m\u001b[0;34m\u001b[0m\u001b[0;34m\u001b[0m\u001b[0m\n",
            "\u001b[0;32m/usr/local/lib/python3.10/dist-packages/numpy/linalg/linalg.py\u001b[0m in \u001b[0;36m_raise_linalgerror_eigenvalues_nonconvergence\u001b[0;34m(err, flag)\u001b[0m\n\u001b[1;32m     93\u001b[0m \u001b[0;34m\u001b[0m\u001b[0m\n\u001b[1;32m     94\u001b[0m \u001b[0;32mdef\u001b[0m \u001b[0m_raise_linalgerror_eigenvalues_nonconvergence\u001b[0m\u001b[0;34m(\u001b[0m\u001b[0merr\u001b[0m\u001b[0;34m,\u001b[0m \u001b[0mflag\u001b[0m\u001b[0;34m)\u001b[0m\u001b[0;34m:\u001b[0m\u001b[0;34m\u001b[0m\u001b[0;34m\u001b[0m\u001b[0m\n\u001b[0;32m---> 95\u001b[0;31m     \u001b[0;32mraise\u001b[0m \u001b[0mLinAlgError\u001b[0m\u001b[0;34m(\u001b[0m\u001b[0;34m\"Eigenvalues did not converge\"\u001b[0m\u001b[0;34m)\u001b[0m\u001b[0;34m\u001b[0m\u001b[0;34m\u001b[0m\u001b[0m\n\u001b[0m\u001b[1;32m     96\u001b[0m \u001b[0;34m\u001b[0m\u001b[0m\n\u001b[1;32m     97\u001b[0m \u001b[0;32mdef\u001b[0m \u001b[0m_raise_linalgerror_svd_nonconvergence\u001b[0m\u001b[0;34m(\u001b[0m\u001b[0merr\u001b[0m\u001b[0;34m,\u001b[0m \u001b[0mflag\u001b[0m\u001b[0;34m)\u001b[0m\u001b[0;34m:\u001b[0m\u001b[0;34m\u001b[0m\u001b[0;34m\u001b[0m\u001b[0m\n",
            "\u001b[0;31mLinAlgError\u001b[0m: Eigenvalues did not converge"
          ]
        }
      ]
    }
  ]
}